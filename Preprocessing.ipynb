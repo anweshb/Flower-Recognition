{
 "cells": [
  {
   "cell_type": "code",
   "execution_count": 1,
   "metadata": {},
   "outputs": [],
   "source": [
    "import os\n",
    "from statistics import mean\n",
    "from shutil import move"
   ]
  },
  {
   "cell_type": "code",
   "execution_count": 2,
   "metadata": {},
   "outputs": [],
   "source": [
    "data_dir = \"E:\\\\Machine Learning\\\\flowers-recognition\\\\flowers\""
   ]
  },
  {
   "cell_type": "code",
   "execution_count": 3,
   "metadata": {},
   "outputs": [
    {
     "name": "stdout",
     "output_type": "stream",
     "text": [
      "['daisy', 'dandelion', 'rose', 'sunflower', 'tulip']\n"
     ]
    }
   ],
   "source": [
    "flower_names = os.listdir(data_dir)\n",
    "print(flower_names)"
   ]
  },
  {
   "cell_type": "code",
   "execution_count": 4,
   "metadata": {},
   "outputs": [
    {
     "name": "stdout",
     "output_type": "stream",
     "text": [
      "['E:\\\\Machine Learning\\\\flowers-recognition\\\\flowers\\\\daisy', 'E:\\\\Machine Learning\\\\flowers-recognition\\\\flowers\\\\dandelion', 'E:\\\\Machine Learning\\\\flowers-recognition\\\\flowers\\\\rose', 'E:\\\\Machine Learning\\\\flowers-recognition\\\\flowers\\\\sunflower', 'E:\\\\Machine Learning\\\\flowers-recognition\\\\flowers\\\\tulip']\n"
     ]
    }
   ],
   "source": [
    "flower_dirs = [data_dir+\"\\\\\"+flower for flower in flower_names]\n",
    "print(flower_dirs)"
   ]
  },
  {
   "cell_type": "code",
   "execution_count": 5,
   "metadata": {},
   "outputs": [
    {
     "name": "stdout",
     "output_type": "stream",
     "text": [
      "[769, 1055, 784, 734, 984]\n"
     ]
    }
   ],
   "source": [
    "flower_len = [len(os.listdir(flower)) for flower in flower_dirs]\n",
    "print(flower_len)"
   ]
  },
  {
   "cell_type": "code",
   "execution_count": 6,
   "metadata": {},
   "outputs": [
    {
     "name": "stdout",
     "output_type": "stream",
     "text": [
      "{'daisy': 769, 'dandelion': 1055, 'rose': 784, 'sunflower': 734, 'tulip': 984}\n"
     ]
    }
   ],
   "source": [
    "flower_dict = dict(zip(flower_names,flower_len))\n",
    "print(flower_dict)"
   ]
  },
  {
   "cell_type": "code",
   "execution_count": 7,
   "metadata": {},
   "outputs": [
    {
     "name": "stdout",
     "output_type": "stream",
     "text": [
      "865\n"
     ]
    }
   ],
   "source": [
    "avg = round(mean(flower_len)) \n",
    "print(avg)"
   ]
  },
  {
   "cell_type": "code",
   "execution_count": null,
   "metadata": {},
   "outputs": [],
   "source": [
    "train_dir = data_dir + \"\\\\train\"\n",
    "test_dir = data_dir + \"\\\\test\" "
   ]
  }
 ],
 "metadata": {
  "kernelspec": {
   "display_name": "Python 3.7 (tensorflow)",
   "language": "python",
   "name": "tensorflow"
  },
  "language_info": {
   "codemirror_mode": {
    "name": "ipython",
    "version": 3
   },
   "file_extension": ".py",
   "mimetype": "text/x-python",
   "name": "python",
   "nbconvert_exporter": "python",
   "pygments_lexer": "ipython3",
   "version": "3.7.6"
  }
 },
 "nbformat": 4,
 "nbformat_minor": 4
}
